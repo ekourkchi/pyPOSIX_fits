{
 "cells": [
  {
   "cell_type": "code",
   "execution_count": 1,
   "metadata": {},
   "outputs": [],
   "source": [
    "import fitsio\n",
    "\n",
    "import numpy as np\n",
    "import mmap\n",
    "from posix_ipc import Semaphore, O_CREX, ExistentialError, O_CREAT, SharedMemory, unlink_shared_memory\n",
    "from ctypes import sizeof, memmove, addressof, create_string_buffer\n",
    "from structures import MD\n",
    "from ctypes import Structure, c_int32, c_int64, c_char_p, c_char\n"
   ]
  },
  {
   "cell_type": "markdown",
   "metadata": {},
   "source": [
    "## Defining the structure that holds the meta-data"
   ]
  },
  {
   "cell_type": "code",
   "execution_count": 2,
   "metadata": {},
   "outputs": [],
   "source": [
    "class MD(Structure):\n",
    "    _fields_ = [\n",
    "        ('byte_size', c_int64),\n",
    "        ('data_shape', c_int64),\n",
    "        ('S2_byte_size', c_int32),\n",
    "        ('S2_shape', c_int32),\n",
    "\n",
    "    ]\n",
    "    \n",
    "md_buf = create_string_buffer(sizeof(MD))"
   ]
  },
  {
   "cell_type": "markdown",
   "metadata": {},
   "source": [
    "## Loading the fits file"
   ]
  },
  {
   "cell_type": "code",
   "execution_count": 3,
   "metadata": {},
   "outputs": [
    {
     "name": "stderr",
     "output_type": "stream",
     "text": [
      "/home/ehsan/anaconda2/envs/py3/lib/python3.7/site-packages/ipykernel_launcher.py:9: DeprecationWarning: The keyword arguments '{'dtype': <class 'numpy.int64'>}' are being ignored! This warning will be an error in a future version of `fitsio`!\n",
      "  if __name__ == '__main__':\n"
     ]
    }
   ],
   "source": [
    "# %%timeit -t -n 2 -r 2\n",
    "\n",
    "# tfile = \"MTL_535700SGA_97percent_2465674_gridpoints_main.fits\"   # 301 MB\n",
    "tfile = \"MTL_all_SV0_ELG_tiles_0.37.0.fits\"    # 6.9 GB\n",
    "\n",
    "fits   = fitsio.FITS(tfile, mode=\"r\")\n",
    "nrows  = fits[1].get_nrows()\n",
    "header = fits[1].read_header()\n",
    "data   = fits[1].read(rows=None, dtype=np.int64)"
   ]
  },
  {
   "cell_type": "code",
   "execution_count": 9,
   "metadata": {},
   "outputs": [
    {
     "data": {
      "text/plain": [
       "4000000"
      ]
     },
     "execution_count": 9,
     "metadata": {},
     "output_type": "execute_result"
    }
   ],
   "source": [
    "N=len(data)\n",
    "data = data[:4000000]\n",
    "N"
   ]
  },
  {
   "cell_type": "markdown",
   "metadata": {},
   "source": [
    "## Meta-data\n",
    "Here meta-data is the size of the data-array, data types, byte-size of the array and so on"
   ]
  },
  {
   "cell_type": "code",
   "execution_count": 10,
   "metadata": {},
   "outputs": [],
   "source": [
    "POSIX_name = 'MTL'\n",
    "\n",
    "byte_size = data.nbytes\n",
    "data_type = str(data.dtype)\n",
    "data_shape = data.shape[0]\n",
    "\n",
    "S2 = np.asarray([ord(x) for x in list(data_type)], dtype='i4')\n",
    "S2_shape = len(S2)\n",
    "S2_byte_size = S2.nbytes"
   ]
  },
  {
   "cell_type": "markdown",
   "metadata": {},
   "source": [
    "## Creating the shared memory \n",
    "POSIX memory"
   ]
  },
  {
   "cell_type": "code",
   "execution_count": 11,
   "metadata": {},
   "outputs": [],
   "source": [
    "md_region = SharedMemory(POSIX_name + '-meta', O_CREAT, size=sizeof(MD))\n",
    "md_buf_ = mmap.mmap(md_region.fd, md_region.size)\n",
    "md_region.close_fd()"
   ]
  },
  {
   "cell_type": "code",
   "execution_count": 12,
   "metadata": {},
   "outputs": [],
   "source": [
    "try:\n",
    "    sem = Semaphore(POSIX_name, O_CREX)\n",
    "    \n",
    "except ExistentialError:\n",
    "    sem = Semaphore(POSIX_name, O_CREAT)\n",
    "    sem.unlink()\n",
    "    sem = Semaphore(POSIX_name, O_CREX)\n",
    "sem.release()"
   ]
  },
  {
   "cell_type": "code",
   "execution_count": 13,
   "metadata": {},
   "outputs": [],
   "source": [
    "try:\n",
    "    sem2 = Semaphore(POSIX_name+'2', O_CREX)\n",
    "    \n",
    "except ExistentialError:\n",
    "    sem2 = Semaphore(POSIX_name+'2', O_CREAT)\n",
    "    sem2.unlink()\n",
    "    sem2 = Semaphore(POSIX_name+'2', O_CREX)\n",
    "sem2.release()"
   ]
  },
  {
   "cell_type": "code",
   "execution_count": 14,
   "metadata": {},
   "outputs": [
    {
     "name": "stdout",
     "output_type": "stream",
     "text": [
      "1936000000 4000000\n",
      "10484 2621\n"
     ]
    }
   ],
   "source": [
    "print(byte_size, data_shape)\n",
    "print(S2_byte_size, S2_shape)"
   ]
  },
  {
   "cell_type": "markdown",
   "metadata": {},
   "source": [
    "## Populating the meta-data portion in the sahred memory"
   ]
  },
  {
   "cell_type": "code",
   "execution_count": 15,
   "metadata": {},
   "outputs": [],
   "source": [
    "md = MD(byte_size, data_shape, S2_byte_size, S2_shape)\n",
    "memmove(md_buf, addressof(md), sizeof(md))\n",
    "md_buf_[:] = bytes(md_buf)"
   ]
  },
  {
   "cell_type": "markdown",
   "metadata": {},
   "source": [
    "## Populating the data portion in the sahred memory\n",
    "shm_region hold the data array"
   ]
  },
  {
   "cell_type": "code",
   "execution_count": 16,
   "metadata": {},
   "outputs": [],
   "source": [
    "shm_region = None\n",
    "\n",
    "\n",
    "if not shm_region:\n",
    "    shm_region = SharedMemory(POSIX_name, O_CREAT, size=byte_size)\n",
    "    shm_buf = mmap.mmap(shm_region.fd, byte_size)\n",
    "    shm_region.close_fd()\n",
    "\n",
    "sem.acquire()\n",
    "shm_buf[:] = data.tobytes()\n",
    "sem.release()"
   ]
  },
  {
   "cell_type": "markdown",
   "metadata": {},
   "source": [
    "shm_region2 is similar to shm_region but it holds the string of data types to be used in the reader code"
   ]
  },
  {
   "cell_type": "code",
   "execution_count": 17,
   "metadata": {},
   "outputs": [],
   "source": [
    "shm_region2 = None\n",
    "\n",
    "\n",
    "if not shm_region2:\n",
    "    shm_region2 = SharedMemory(POSIX_name+'2', O_CREAT, size=S2_byte_size)\n",
    "    shm_buf2 = mmap.mmap(shm_region2.fd, S2_byte_size)\n",
    "    shm_region2.close_fd()\n",
    "\n",
    "sem2.acquire()\n",
    "shm_buf2[:] = S2.tobytes()\n",
    "sem2.release()"
   ]
  },
  {
   "cell_type": "code",
   "execution_count": 18,
   "metadata": {},
   "outputs": [
    {
     "name": "stdout",
     "output_type": "stream",
     "text": [
      "1936000000\n",
      "[('NUMOBS_MORE', '>i8'), ('RELEASE', '>i2'), ('BRICKID', '>i4'), ('BRICKNAME', '<U8'), ('BRICK_OBJID', '>i4'), ('MORPHTYPE', '<U4'), ('RA', '>f8'), ('RA_IVAR', '>f4'), ('DEC', '>f8'), ('DEC_IVAR', '>f4'), ('EBV', '>f4'), ('FLUX_G', '>f4'), ('FLUX_R', '>f4'), ('FLUX_Z', '>f4'), ('FLUX_IVAR_G', '>f4'), ('FLUX_IVAR_R', '>f4'), ('FLUX_IVAR_Z', '>f4'), ('MW_TRANSMISSION_G', '>f4'), ('MW_TRANSMISSION_R', '>f4'), ('MW_TRANSMISSION_Z', '>f4'), ('FRACFLUX_G', '>f4'), ('FRACFLUX_R', '>f4'), ('FRACFLUX_Z', '>f4'), ('FRACMASKED_G', '>f4'), ('FRACMASKED_R', '>f4'), ('FRACMASKED_Z', '>f4'), ('FRACIN_G', '>f4'), ('FRACIN_R', '>f4'), ('FRACIN_Z', '>f4'), ('NOBS_G', '>i2'), ('NOBS_R', '>i2'), ('NOBS_Z', '>i2'), ('PSFDEPTH_G', '>f4'), ('PSFDEPTH_R', '>f4'), ('PSFDEPTH_Z', '>f4'), ('GALDEPTH_G', '>f4'), ('GALDEPTH_R', '>f4'), ('GALDEPTH_Z', '>f4'), ('FLUX_W1', '>f4'), ('FLUX_W2', '>f4'), ('FLUX_W3', '>f4'), ('FLUX_W4', '>f4'), ('FLUX_IVAR_W1', '>f4'), ('FLUX_IVAR_W2', '>f4'), ('FLUX_IVAR_W3', '>f4'), ('FLUX_IVAR_W4', '>f4'), ('MW_TRANSMISSION_W1', '>f4'), ('MW_TRANSMISSION_W2', '>f4'), ('MW_TRANSMISSION_W3', '>f4'), ('MW_TRANSMISSION_W4', '>f4'), ('ALLMASK_G', '>i2'), ('ALLMASK_R', '>i2'), ('ALLMASK_Z', '>i2'), ('FIBERFLUX_G', '>f4'), ('FIBERFLUX_R', '>f4'), ('FIBERFLUX_Z', '>f4'), ('FIBERTOTFLUX_G', '>f4'), ('FIBERTOTFLUX_R', '>f4'), ('FIBERTOTFLUX_Z', '>f4'), ('REF_EPOCH', '>f4'), ('WISEMASK_W1', 'u1'), ('WISEMASK_W2', 'u1'), ('MASKBITS', '>i2'), ('FRACDEV', '>f4'), ('FRACDEV_IVAR', '>f4'), ('SHAPEDEV_R', '>f4'), ('SHAPEDEV_E1', '>f4'), ('SHAPEDEV_E2', '>f4'), ('SHAPEDEV_R_IVAR', '>f4'), ('SHAPEDEV_E1_IVAR', '>f4'), ('SHAPEDEV_E2_IVAR', '>f4'), ('SHAPEEXP_R', '>f4'), ('SHAPEEXP_E1', '>f4'), ('SHAPEEXP_E2', '>f4'), ('SHAPEEXP_R_IVAR', '>f4'), ('SHAPEEXP_E1_IVAR', '>f4'), ('SHAPEEXP_E2_IVAR', '>f4'), ('REF_ID', '>i8'), ('REF_CAT', '<U2'), ('GAIA_PHOT_G_MEAN_MAG', '>f4'), ('GAIA_PHOT_G_MEAN_FLUX_OVER_ERROR', '>f4'), ('GAIA_PHOT_BP_MEAN_MAG', '>f4'), ('GAIA_PHOT_BP_MEAN_FLUX_OVER_ERROR', '>f4'), ('GAIA_PHOT_RP_MEAN_MAG', '>f4'), ('GAIA_PHOT_RP_MEAN_FLUX_OVER_ERROR', '>f4'), ('GAIA_PHOT_BP_RP_EXCESS_FACTOR', '>f4'), ('GAIA_ASTROMETRIC_EXCESS_NOISE', '>f4'), ('GAIA_DUPLICATED_SOURCE', '?'), ('GAIA_ASTROMETRIC_SIGMA5D_MAX', '>f4'), ('GAIA_ASTROMETRIC_PARAMS_SOLVED', '?'), ('PARALLAX', '>f4'), ('PARALLAX_IVAR', '>f4'), ('PMRA', '>f4'), ('PMRA_IVAR', '>f4'), ('PMDEC', '>f4'), ('PMDEC_IVAR', '>f4'), ('PHOTSYS', '<U1'), ('TARGETID', '>i8'), ('CMX_TARGET', '>i8'), ('SUBPRIORITY', '>f8'), ('OBSCONDITIONS', '>i8'), ('PRIORITY_INIT', '>i8'), ('NUMOBS_INIT', '>i8'), ('HPXPIXEL', '>i8'), ('PRIORITY', '>i8')]\n",
      "4000000\n"
     ]
    }
   ],
   "source": [
    "print(byte_size)\n",
    "print(data_type)\n",
    "print(data_shape)\n",
    "\n",
    "\n"
   ]
  },
  {
   "cell_type": "code",
   "execution_count": 19,
   "metadata": {},
   "outputs": [
    {
     "data": {
      "text/plain": [
       "array([91, 40, 39, 78, 85, 77, 79, 66, 83, 95], dtype=int32)"
      ]
     },
     "execution_count": 19,
     "metadata": {},
     "output_type": "execute_result"
    }
   ],
   "source": [
    "S2[:10]\n"
   ]
  },
  {
   "cell_type": "code",
   "execution_count": 20,
   "metadata": {},
   "outputs": [
    {
     "data": {
      "text/plain": [
       "2621"
      ]
     },
     "execution_count": 20,
     "metadata": {},
     "output_type": "execute_result"
    }
   ],
   "source": [
    "len(S2)"
   ]
  },
  {
   "cell_type": "code",
   "execution_count": 21,
   "metadata": {},
   "outputs": [
    {
     "data": {
      "text/plain": [
       "array([(100, 8001, 638477, '2713p682', 1784, 'PSF', 271.57822094, 1.1226929e+14, 68.23066885, 1.1204010e+14, 0.04494829, 13.377395, 12.291068,   8.760663, 245.06502 , 118.429504, 71.51117 , 0.875416 , 0.91427064, 0.9511019, 2.6097623e-04, 1.7119080e-03, 8.2329474e-04, 0.00389323, 4.0909229e-03, 0.01162072, 0.9997574 , 0.9998439 , 0.99894214, 3, 3, 3, 663.42334, 205.63574, 79.37791 , 483.33347, 151.64256, 43.039734,  2.222856,  1.387598, -11.353064 ,   3.7152333, 26.60402 , 4.6205597, 0.02932631, 0.00034518, 0.99241155, 0.99533284, 0.99900275, 0.99962336, 0, 0, 0, 10.414153,  9.5684595,  6.8200793, 10.414153,  9.5684595,  6.8200793, 2015.5, 0, 0, 0, 0., 0., 0., 0., 0., 0., 0., 0., 0., 0., 0., 0., 0., 0., 2258343419699174784, 'G2', 19.754745, 210.92673, 19.676823,  20.26173, 19.599525,  16.327147, 1.2792153, 0.        , False, 0.5978343 ,  True, 2.4843044 ,   7.7688184, -4.6271515,  2.2121403, 0.49411172,  2.7031229, 'N', 35191448101979896,        8225, 0.59664697, 65535, 3050, 1, 16046, 20000),\n",
       "       (100, 8001, 638477, '2713p682', 2117, 'PSF', 271.61333462, 1.8625112e+15, 68.25268977, 1.6211522e+15, 0.0449628 , 65.35496 , 91.35883 , 101.26011 ,  54.374596,  33.797104, 39.454395, 0.8753784, 0.9142442 , 0.9510865, 0.0000000e+00, 0.0000000e+00, 0.0000000e+00, 0.10197438, 8.4533203e-05, 0.00891148, 1.0000005 , 0.99999744, 0.9998879 , 2, 3, 3, 425.28433, 172.56728, 82.18143 , 313.22916, 129.66475, 44.674545, 25.353931, 14.161099,  -7.7651734, -37.712624 , 26.49857 , 4.612014 , 0.02907439, 0.00034106, 0.9924091 , 0.99533135, 0.99900246, 0.99962324, 0, 0, 0, 50.66793 , 70.828026 , 78.50422  , 50.66793 , 70.828026 , 78.50422  , 2015.5, 0, 0, 0, 0., 0., 0., 0., 0., 0., 0., 0., 0., 0., 0., 0., 0., 0., 2258343866375782400, 'G2', 17.673803, 786.8435 , 17.96033 , 123.93788, 17.205948,  92.11216 , 1.2186033, 0.        , False, 0.15401222,  True, 0.34176916, 120.234665 , -8.981949 , 35.380104 , 6.6925783 , 38.620377 , 'N', 35191448101980229, 42949673511, 0.96982187, 65535, 2674, 1, 16046,   100),\n",
       "       (100, 8001, 638477, '2713p682', 2389, 'PSF', 271.5520832 , 9.8037621e+14, 68.27204657, 8.2197923e+14, 0.04649574, 42.2294  , 59.678577,  66.53014 ,  75.9498  ,  50.88942 , 37.067043, 0.8714151, 0.91145384, 0.9494617, 2.6386608e-05, 6.2137864e-05, 1.5205884e-05, 0.00056822, 6.2155887e-04, 0.24377383, 0.99999297, 0.99999756, 0.99994725, 2, 3, 3, 515.5228 , 191.12587, 53.732395, 365.20062, 140.34766, 29.542763, 15.175107,  9.698841, -12.831971 ,  60.266933 , 26.379297, 4.5964885, 0.02908709, 0.0003438 , 0.9921513 , 0.99517256, 0.9989685 , 0.99961036, 0, 0, 0, 32.8517  , 46.42601  , 51.75608  , 32.8517  , 46.42601  , 51.75608  , 2015.5, 0, 0, 0, 0., 0., 0., 0., 0., 0., 0., 0., 0., 0., 0., 0., 0., 0., 2258343935095266688, 'G2', 18.132856, 483.55972, 18.398851,  65.21342, 17.665693, 120.7636  , 1.2289358, 0.17355804, False, 0.21648525,  True, 0.07138739,  59.771854 , -1.7858295, 17.545628 , 4.6823263 , 20.148254 , 'N', 35191448101980501,  8589935139, 0.84730965, 65535, 2669, 1, 16046,   100)],\n",
       "      dtype=[('NUMOBS_MORE', '>i8'), ('RELEASE', '>i2'), ('BRICKID', '>i4'), ('BRICKNAME', '<U8'), ('BRICK_OBJID', '>i4'), ('MORPHTYPE', '<U4'), ('RA', '>f8'), ('RA_IVAR', '>f4'), ('DEC', '>f8'), ('DEC_IVAR', '>f4'), ('EBV', '>f4'), ('FLUX_G', '>f4'), ('FLUX_R', '>f4'), ('FLUX_Z', '>f4'), ('FLUX_IVAR_G', '>f4'), ('FLUX_IVAR_R', '>f4'), ('FLUX_IVAR_Z', '>f4'), ('MW_TRANSMISSION_G', '>f4'), ('MW_TRANSMISSION_R', '>f4'), ('MW_TRANSMISSION_Z', '>f4'), ('FRACFLUX_G', '>f4'), ('FRACFLUX_R', '>f4'), ('FRACFLUX_Z', '>f4'), ('FRACMASKED_G', '>f4'), ('FRACMASKED_R', '>f4'), ('FRACMASKED_Z', '>f4'), ('FRACIN_G', '>f4'), ('FRACIN_R', '>f4'), ('FRACIN_Z', '>f4'), ('NOBS_G', '>i2'), ('NOBS_R', '>i2'), ('NOBS_Z', '>i2'), ('PSFDEPTH_G', '>f4'), ('PSFDEPTH_R', '>f4'), ('PSFDEPTH_Z', '>f4'), ('GALDEPTH_G', '>f4'), ('GALDEPTH_R', '>f4'), ('GALDEPTH_Z', '>f4'), ('FLUX_W1', '>f4'), ('FLUX_W2', '>f4'), ('FLUX_W3', '>f4'), ('FLUX_W4', '>f4'), ('FLUX_IVAR_W1', '>f4'), ('FLUX_IVAR_W2', '>f4'), ('FLUX_IVAR_W3', '>f4'), ('FLUX_IVAR_W4', '>f4'), ('MW_TRANSMISSION_W1', '>f4'), ('MW_TRANSMISSION_W2', '>f4'), ('MW_TRANSMISSION_W3', '>f4'), ('MW_TRANSMISSION_W4', '>f4'), ('ALLMASK_G', '>i2'), ('ALLMASK_R', '>i2'), ('ALLMASK_Z', '>i2'), ('FIBERFLUX_G', '>f4'), ('FIBERFLUX_R', '>f4'), ('FIBERFLUX_Z', '>f4'), ('FIBERTOTFLUX_G', '>f4'), ('FIBERTOTFLUX_R', '>f4'), ('FIBERTOTFLUX_Z', '>f4'), ('REF_EPOCH', '>f4'), ('WISEMASK_W1', 'u1'), ('WISEMASK_W2', 'u1'), ('MASKBITS', '>i2'), ('FRACDEV', '>f4'), ('FRACDEV_IVAR', '>f4'), ('SHAPEDEV_R', '>f4'), ('SHAPEDEV_E1', '>f4'), ('SHAPEDEV_E2', '>f4'), ('SHAPEDEV_R_IVAR', '>f4'), ('SHAPEDEV_E1_IVAR', '>f4'), ('SHAPEDEV_E2_IVAR', '>f4'), ('SHAPEEXP_R', '>f4'), ('SHAPEEXP_E1', '>f4'), ('SHAPEEXP_E2', '>f4'), ('SHAPEEXP_R_IVAR', '>f4'), ('SHAPEEXP_E1_IVAR', '>f4'), ('SHAPEEXP_E2_IVAR', '>f4'), ('REF_ID', '>i8'), ('REF_CAT', '<U2'), ('GAIA_PHOT_G_MEAN_MAG', '>f4'), ('GAIA_PHOT_G_MEAN_FLUX_OVER_ERROR', '>f4'), ('GAIA_PHOT_BP_MEAN_MAG', '>f4'), ('GAIA_PHOT_BP_MEAN_FLUX_OVER_ERROR', '>f4'), ('GAIA_PHOT_RP_MEAN_MAG', '>f4'), ('GAIA_PHOT_RP_MEAN_FLUX_OVER_ERROR', '>f4'), ('GAIA_PHOT_BP_RP_EXCESS_FACTOR', '>f4'), ('GAIA_ASTROMETRIC_EXCESS_NOISE', '>f4'), ('GAIA_DUPLICATED_SOURCE', '?'), ('GAIA_ASTROMETRIC_SIGMA5D_MAX', '>f4'), ('GAIA_ASTROMETRIC_PARAMS_SOLVED', '?'), ('PARALLAX', '>f4'), ('PARALLAX_IVAR', '>f4'), ('PMRA', '>f4'), ('PMRA_IVAR', '>f4'), ('PMDEC', '>f4'), ('PMDEC_IVAR', '>f4'), ('PHOTSYS', '<U1'), ('TARGETID', '>i8'), ('CMX_TARGET', '>i8'), ('SUBPRIORITY', '>f8'), ('OBSCONDITIONS', '>i8'), ('PRIORITY_INIT', '>i8'), ('NUMOBS_INIT', '>i8'), ('HPXPIXEL', '>i8'), ('PRIORITY', '>i8')])"
      ]
     },
     "execution_count": 21,
     "metadata": {},
     "output_type": "execute_result"
    }
   ],
   "source": [
    "data[:3]"
   ]
  },
  {
   "cell_type": "markdown",
   "metadata": {},
   "source": [
    "# KILL POSIX Data"
   ]
  },
  {
   "cell_type": "code",
   "execution_count": 22,
   "metadata": {},
   "outputs": [],
   "source": [
    "try:\n",
    "    sem.acquire()\n",
    "    md_buf_.close()\n",
    "    shm_buf.close()\n",
    "    unlink_shared_memory(POSIX_name)\n",
    "    sem.release()\n",
    "    sem.close()\n",
    "    \n",
    "    \n",
    "    sem2.acquire()\n",
    "    shm_buf2.close()\n",
    "    unlink_shared_memory(POSIX_name+'2')\n",
    "    sem2.release()\n",
    "    sem2.close()    \n",
    "    \n",
    "except ExistentialError:\n",
    "    pass"
   ]
  },
  {
   "cell_type": "code",
   "execution_count": 120,
   "metadata": {},
   "outputs": [
    {
     "data": {
      "text/plain": [
       "'E'"
      ]
     },
     "execution_count": 120,
     "metadata": {},
     "output_type": "execute_result"
    }
   ],
   "source": [
    "ord('E')\n",
    "chr(69)"
   ]
  },
  {
   "cell_type": "code",
   "execution_count": null,
   "metadata": {},
   "outputs": [],
   "source": []
  }
 ],
 "metadata": {
  "kernelspec": {
   "display_name": "Python 3",
   "language": "python",
   "name": "python3"
  },
  "language_info": {
   "codemirror_mode": {
    "name": "ipython",
    "version": 3
   },
   "file_extension": ".py",
   "mimetype": "text/x-python",
   "name": "python",
   "nbconvert_exporter": "python",
   "pygments_lexer": "ipython3",
   "version": "3.7.6"
  }
 },
 "nbformat": 4,
 "nbformat_minor": 4
}
