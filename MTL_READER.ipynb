{
 "cells": [
  {
   "cell_type": "code",
   "execution_count": 15,
   "metadata": {},
   "outputs": [],
   "source": [
    "import numpy as np\n",
    "import mmap\n",
    "from posix_ipc import Semaphore, SharedMemory, ExistentialError\n",
    "from ctypes import sizeof, memmove, addressof, create_string_buffer\n",
    "from time import sleep\n",
    "from ctypes import Structure, c_int32, c_int64, c_char_p, c_char\n"
   ]
  },
  {
   "cell_type": "markdown",
   "metadata": {},
   "source": [
    "## Defining the structure that holds the meta-data"
   ]
  },
  {
   "cell_type": "code",
   "execution_count": 16,
   "metadata": {},
   "outputs": [],
   "source": [
    "class MD(Structure):\n",
    "    _fields_ = [\n",
    "        ('byte_size', c_int64),\n",
    "        ('data_shape', c_int64),\n",
    "        ('S2_byte_size', c_int32),\n",
    "        ('S2_shape', c_int32),\n",
    "    ]\n",
    "    \n",
    "md_buf = create_string_buffer(sizeof(MD))"
   ]
  },
  {
   "cell_type": "code",
   "execution_count": 17,
   "metadata": {},
   "outputs": [],
   "source": [
    "POSIX_name = 'MTL'\n",
    "\n",
    "sem = Semaphore(POSIX_name, 0)\n",
    "sem2 = Semaphore(POSIX_name+'2', 0)"
   ]
  },
  {
   "cell_type": "code",
   "execution_count": 18,
   "metadata": {},
   "outputs": [
    {
     "name": "stdout",
     "output_type": "stream",
     "text": [
      "byte_size <class 'ctypes.c_long'>\n",
      "data_shape <class 'ctypes.c_long'>\n",
      "S2_byte_size <class 'ctypes.c_int'>\n",
      "S2_shape <class 'ctypes.c_int'>\n"
     ]
    }
   ],
   "source": [
    "shm_buf = None\n",
    "\n",
    "try:\n",
    "    md_region = SharedMemory(POSIX_name + '-meta')\n",
    "    md_buf_ = mmap.mmap(md_region.fd, sizeof(MD))\n",
    "    md_region.close_fd()\n",
    "except ExistentialError:\n",
    "    print(\"Meta Data shared memory is NOT available.\")\n",
    "    \n",
    "md = MD()\n",
    "md_buf[:] = md_buf_\n",
    "memmove(addressof(md), md_buf, sizeof(md))\n",
    "\n",
    "for name, xx in md._fields_:\n",
    "    print(name, xx)\n",
    "\n",
    "byte_size  = getattr(md, 'byte_size')\n",
    "data_shape = getattr(md, 'data_shape')\n",
    "\n",
    "S2_byte_size = getattr(md, 'S2_byte_size')\n",
    "S2_shape = getattr(md, 'S2_shape')"
   ]
  },
  {
   "cell_type": "markdown",
   "metadata": {},
   "source": [
    "## Please make sure that the MTL file has been already laoded into the POSIX shared memory"
   ]
  },
  {
   "cell_type": "code",
   "execution_count": 19,
   "metadata": {},
   "outputs": [],
   "source": [
    "# %%timeit -t -n 10 -r 10\n",
    "\n",
    "shm_buf = None\n",
    "\n",
    "try:\n",
    "    md_region = SharedMemory(POSIX_name + '-meta')\n",
    "    md_buf_ = mmap.mmap(md_region.fd, sizeof(MD))\n",
    "    shm_region = SharedMemory(name=POSIX_name)\n",
    "    shm_region2 = SharedMemory(name=POSIX_name+'2')\n",
    "    md_region.close_fd()\n",
    "    shm_buf = mmap.mmap(shm_region.fd, byte_size)\n",
    "    shm_buf2 = mmap.mmap(shm_region2.fd, S2_byte_size)\n",
    "    shm_region.close_fd()\n",
    "except ExistentialError:\n",
    "    print(\"Data shared memory is NOT available.\")"
   ]
  },
  {
   "cell_type": "markdown",
   "metadata": {},
   "source": [
    "## Decoding the data-type string.\n",
    "Converting it to a list of tuples"
   ]
  },
  {
   "cell_type": "code",
   "execution_count": 20,
   "metadata": {},
   "outputs": [
    {
     "data": {
      "text/plain": [
       "array([91, 40, 39, 78, 85, 77, 79, 66, 83, 95], dtype=int32)"
      ]
     },
     "execution_count": 20,
     "metadata": {},
     "output_type": "execute_result"
    }
   ],
   "source": [
    "sem2.acquire()\n",
    "\n",
    "S2 = np.ndarray(shape=(S2_shape,), dtype='int32', buffer=shm_buf2)\n",
    "sem2.release()\n",
    "\n",
    "S2[:10]"
   ]
  },
  {
   "cell_type": "code",
   "execution_count": 21,
   "metadata": {},
   "outputs": [
    {
     "data": {
      "text/plain": [
       "[('NUMOBS_MORE', '>i8'),\n",
       " ('RELEASE', '>i2'),\n",
       " ('BRICKID', '>i4'),\n",
       " ('BRICKNAME', '<U8'),\n",
       " ('BRICK_OBJID', '>i4'),\n",
       " ('MORPHTYPE', '<U4'),\n",
       " ('RA', '>f8'),\n",
       " ('RA_IVAR', '>f4'),\n",
       " ('DEC', '>f8'),\n",
       " ('DEC_IVAR', '>f4'),\n",
       " ('EBV', '>f4'),\n",
       " ('FLUX_G', '>f4'),\n",
       " ('FLUX_R', '>f4'),\n",
       " ('FLUX_Z', '>f4'),\n",
       " ('FLUX_IVAR_G', '>f4'),\n",
       " ('FLUX_IVAR_R', '>f4'),\n",
       " ('FLUX_IVAR_Z', '>f4'),\n",
       " ('MW_TRANSMISSION_G', '>f4'),\n",
       " ('MW_TRANSMISSION_R', '>f4'),\n",
       " ('MW_TRANSMISSION_Z', '>f4'),\n",
       " ('FRACFLUX_G', '>f4'),\n",
       " ('FRACFLUX_R', '>f4'),\n",
       " ('FRACFLUX_Z', '>f4'),\n",
       " ('FRACMASKED_G', '>f4'),\n",
       " ('FRACMASKED_R', '>f4'),\n",
       " ('FRACMASKED_Z', '>f4'),\n",
       " ('FRACIN_G', '>f4'),\n",
       " ('FRACIN_R', '>f4'),\n",
       " ('FRACIN_Z', '>f4'),\n",
       " ('NOBS_G', '>i2'),\n",
       " ('NOBS_R', '>i2'),\n",
       " ('NOBS_Z', '>i2'),\n",
       " ('PSFDEPTH_G', '>f4'),\n",
       " ('PSFDEPTH_R', '>f4'),\n",
       " ('PSFDEPTH_Z', '>f4'),\n",
       " ('GALDEPTH_G', '>f4'),\n",
       " ('GALDEPTH_R', '>f4'),\n",
       " ('GALDEPTH_Z', '>f4'),\n",
       " ('FLUX_W1', '>f4'),\n",
       " ('FLUX_W2', '>f4'),\n",
       " ('FLUX_W3', '>f4'),\n",
       " ('FLUX_W4', '>f4'),\n",
       " ('FLUX_IVAR_W1', '>f4'),\n",
       " ('FLUX_IVAR_W2', '>f4'),\n",
       " ('FLUX_IVAR_W3', '>f4'),\n",
       " ('FLUX_IVAR_W4', '>f4'),\n",
       " ('MW_TRANSMISSION_W1', '>f4'),\n",
       " ('MW_TRANSMISSION_W2', '>f4'),\n",
       " ('MW_TRANSMISSION_W3', '>f4'),\n",
       " ('MW_TRANSMISSION_W4', '>f4'),\n",
       " ('ALLMASK_G', '>i2'),\n",
       " ('ALLMASK_R', '>i2'),\n",
       " ('ALLMASK_Z', '>i2'),\n",
       " ('FIBERFLUX_G', '>f4'),\n",
       " ('FIBERFLUX_R', '>f4'),\n",
       " ('FIBERFLUX_Z', '>f4'),\n",
       " ('FIBERTOTFLUX_G', '>f4'),\n",
       " ('FIBERTOTFLUX_R', '>f4'),\n",
       " ('FIBERTOTFLUX_Z', '>f4'),\n",
       " ('REF_EPOCH', '>f4'),\n",
       " ('WISEMASK_W1', 'u1'),\n",
       " ('WISEMASK_W2', 'u1'),\n",
       " ('MASKBITS', '>i2'),\n",
       " ('FRACDEV', '>f4'),\n",
       " ('FRACDEV_IVAR', '>f4'),\n",
       " ('SHAPEDEV_R', '>f4'),\n",
       " ('SHAPEDEV_E1', '>f4'),\n",
       " ('SHAPEDEV_E2', '>f4'),\n",
       " ('SHAPEDEV_R_IVAR', '>f4'),\n",
       " ('SHAPEDEV_E1_IVAR', '>f4'),\n",
       " ('SHAPEDEV_E2_IVAR', '>f4'),\n",
       " ('SHAPEEXP_R', '>f4'),\n",
       " ('SHAPEEXP_E1', '>f4'),\n",
       " ('SHAPEEXP_E2', '>f4'),\n",
       " ('SHAPEEXP_R_IVAR', '>f4'),\n",
       " ('SHAPEEXP_E1_IVAR', '>f4'),\n",
       " ('SHAPEEXP_E2_IVAR', '>f4'),\n",
       " ('REF_ID', '>i8'),\n",
       " ('REF_CAT', '<U2'),\n",
       " ('GAIA_PHOT_G_MEAN_MAG', '>f4'),\n",
       " ('GAIA_PHOT_G_MEAN_FLUX_OVER_ERROR', '>f4'),\n",
       " ('GAIA_PHOT_BP_MEAN_MAG', '>f4'),\n",
       " ('GAIA_PHOT_BP_MEAN_FLUX_OVER_ERROR', '>f4'),\n",
       " ('GAIA_PHOT_RP_MEAN_MAG', '>f4'),\n",
       " ('GAIA_PHOT_RP_MEAN_FLUX_OVER_ERROR', '>f4'),\n",
       " ('GAIA_PHOT_BP_RP_EXCESS_FACTOR', '>f4'),\n",
       " ('GAIA_ASTROMETRIC_EXCESS_NOISE', '>f4'),\n",
       " ('GAIA_DUPLICATED_SOURCE', '?'),\n",
       " ('GAIA_ASTROMETRIC_SIGMA5D_MAX', '>f4'),\n",
       " ('GAIA_ASTROMETRIC_PARAMS_SOLVED', '?'),\n",
       " ('PARALLAX', '>f4'),\n",
       " ('PARALLAX_IVAR', '>f4'),\n",
       " ('PMRA', '>f4'),\n",
       " ('PMRA_IVAR', '>f4'),\n",
       " ('PMDEC', '>f4'),\n",
       " ('PMDEC_IVAR', '>f4'),\n",
       " ('PHOTSYS', '<U1'),\n",
       " ('TARGETID', '>i8'),\n",
       " ('CMX_TARGET', '>i8'),\n",
       " ('SUBPRIORITY', '>f8'),\n",
       " ('OBSCONDITIONS', '>i8'),\n",
       " ('PRIORITY_INIT', '>i8'),\n",
       " ('NUMOBS_INIT', '>i8'),\n",
       " ('HPXPIXEL', '>i8'),\n",
       " ('PRIORITY', '>i8')]"
      ]
     },
     "execution_count": 21,
     "metadata": {},
     "output_type": "execute_result"
    }
   ],
   "source": [
    "S = ''.join([chr(x) for x in S2]).split(\"[\")[1].split(\"]\")[0].split(\",\")\n",
    "\n",
    "i = 0\n",
    "dtyle_lst = []\n",
    "while i < len(S):\n",
    "    s1 = S[i].split('(')[1].replace(\"'\", \"\").strip()\n",
    "    s2 = S[i+1].split(')')[0].replace(\"'\", \"\").strip()\n",
    "    \n",
    "    dtyle_lst.append((s1,s2))\n",
    "    \n",
    "    i+=2\n",
    "\n",
    "dtyle_lst"
   ]
  },
  {
   "cell_type": "code",
   "execution_count": 22,
   "metadata": {},
   "outputs": [],
   "source": [
    "# %%timeit -t -n 2 -r 2\n",
    "\n",
    "sem.acquire()\n",
    "\n",
    "f = np.ndarray(shape=(data_shape,), dtype=dtyle_lst, buffer=shm_buf)\n",
    "sem.release()\n"
   ]
  },
  {
   "cell_type": "code",
   "execution_count": 23,
   "metadata": {},
   "outputs": [
    {
     "data": {
      "text/plain": [
       "array([(100, 8001, 638477, '2713p682', 1784, 'PSF', 271.57822094, 1.1226929e+14, 68.23066885, 1.1204010e+14, 0.04494829, 13.377395, 12.291068,   8.760663, 245.06502 , 118.429504, 71.51117 , 0.875416 , 0.91427064, 0.9511019, 2.6097623e-04, 1.7119080e-03, 8.2329474e-04, 0.00389323, 4.0909229e-03, 0.01162072, 0.9997574 , 0.9998439 , 0.99894214, 3, 3, 3, 663.42334, 205.63574, 79.37791 , 483.33347, 151.64256, 43.039734,  2.222856,  1.387598, -11.353064 ,   3.7152333, 26.60402 , 4.6205597, 0.02932631, 0.00034518, 0.99241155, 0.99533284, 0.99900275, 0.99962336, 0, 0, 0, 10.414153,  9.5684595,  6.8200793, 10.414153,  9.5684595,  6.8200793, 2015.5, 0, 0, 0, 0., 0., 0., 0., 0., 0., 0., 0., 0., 0., 0., 0., 0., 0., 2258343419699174784, 'G2', 19.754745, 210.92673, 19.676823,  20.26173, 19.599525,  16.327147, 1.2792153, 0.        , False, 0.5978343 ,  True, 2.4843044 ,   7.7688184, -4.6271515,  2.2121403, 0.49411172,  2.7031229, 'N', 35191448101979896,        8225, 0.59664697, 65535, 3050, 1, 16046, 20000),\n",
       "       (100, 8001, 638477, '2713p682', 2117, 'PSF', 271.61333462, 1.8625112e+15, 68.25268977, 1.6211522e+15, 0.0449628 , 65.35496 , 91.35883 , 101.26011 ,  54.374596,  33.797104, 39.454395, 0.8753784, 0.9142442 , 0.9510865, 0.0000000e+00, 0.0000000e+00, 0.0000000e+00, 0.10197438, 8.4533203e-05, 0.00891148, 1.0000005 , 0.99999744, 0.9998879 , 2, 3, 3, 425.28433, 172.56728, 82.18143 , 313.22916, 129.66475, 44.674545, 25.353931, 14.161099,  -7.7651734, -37.712624 , 26.49857 , 4.612014 , 0.02907439, 0.00034106, 0.9924091 , 0.99533135, 0.99900246, 0.99962324, 0, 0, 0, 50.66793 , 70.828026 , 78.50422  , 50.66793 , 70.828026 , 78.50422  , 2015.5, 0, 0, 0, 0., 0., 0., 0., 0., 0., 0., 0., 0., 0., 0., 0., 0., 0., 2258343866375782400, 'G2', 17.673803, 786.8435 , 17.96033 , 123.93788, 17.205948,  92.11216 , 1.2186033, 0.        , False, 0.15401222,  True, 0.34176916, 120.234665 , -8.981949 , 35.380104 , 6.6925783 , 38.620377 , 'N', 35191448101980229, 42949673511, 0.96982187, 65535, 2674, 1, 16046,   100),\n",
       "       (100, 8001, 638477, '2713p682', 2389, 'PSF', 271.5520832 , 9.8037621e+14, 68.27204657, 8.2197923e+14, 0.04649574, 42.2294  , 59.678577,  66.53014 ,  75.9498  ,  50.88942 , 37.067043, 0.8714151, 0.91145384, 0.9494617, 2.6386608e-05, 6.2137864e-05, 1.5205884e-05, 0.00056822, 6.2155887e-04, 0.24377383, 0.99999297, 0.99999756, 0.99994725, 2, 3, 3, 515.5228 , 191.12587, 53.732395, 365.20062, 140.34766, 29.542763, 15.175107,  9.698841, -12.831971 ,  60.266933 , 26.379297, 4.5964885, 0.02908709, 0.0003438 , 0.9921513 , 0.99517256, 0.9989685 , 0.99961036, 0, 0, 0, 32.8517  , 46.42601  , 51.75608  , 32.8517  , 46.42601  , 51.75608  , 2015.5, 0, 0, 0, 0., 0., 0., 0., 0., 0., 0., 0., 0., 0., 0., 0., 0., 0., 2258343935095266688, 'G2', 18.132856, 483.55972, 18.398851,  65.21342, 17.665693, 120.7636  , 1.2289358, 0.17355804, False, 0.21648525,  True, 0.07138739,  59.771854 , -1.7858295, 17.545628 , 4.6823263 , 20.148254 , 'N', 35191448101980501,  8589935139, 0.84730965, 65535, 2669, 1, 16046,   100)],\n",
       "      dtype=[('NUMOBS_MORE', '>i8'), ('RELEASE', '>i2'), ('BRICKID', '>i4'), ('BRICKNAME', '<U8'), ('BRICK_OBJID', '>i4'), ('MORPHTYPE', '<U4'), ('RA', '>f8'), ('RA_IVAR', '>f4'), ('DEC', '>f8'), ('DEC_IVAR', '>f4'), ('EBV', '>f4'), ('FLUX_G', '>f4'), ('FLUX_R', '>f4'), ('FLUX_Z', '>f4'), ('FLUX_IVAR_G', '>f4'), ('FLUX_IVAR_R', '>f4'), ('FLUX_IVAR_Z', '>f4'), ('MW_TRANSMISSION_G', '>f4'), ('MW_TRANSMISSION_R', '>f4'), ('MW_TRANSMISSION_Z', '>f4'), ('FRACFLUX_G', '>f4'), ('FRACFLUX_R', '>f4'), ('FRACFLUX_Z', '>f4'), ('FRACMASKED_G', '>f4'), ('FRACMASKED_R', '>f4'), ('FRACMASKED_Z', '>f4'), ('FRACIN_G', '>f4'), ('FRACIN_R', '>f4'), ('FRACIN_Z', '>f4'), ('NOBS_G', '>i2'), ('NOBS_R', '>i2'), ('NOBS_Z', '>i2'), ('PSFDEPTH_G', '>f4'), ('PSFDEPTH_R', '>f4'), ('PSFDEPTH_Z', '>f4'), ('GALDEPTH_G', '>f4'), ('GALDEPTH_R', '>f4'), ('GALDEPTH_Z', '>f4'), ('FLUX_W1', '>f4'), ('FLUX_W2', '>f4'), ('FLUX_W3', '>f4'), ('FLUX_W4', '>f4'), ('FLUX_IVAR_W1', '>f4'), ('FLUX_IVAR_W2', '>f4'), ('FLUX_IVAR_W3', '>f4'), ('FLUX_IVAR_W4', '>f4'), ('MW_TRANSMISSION_W1', '>f4'), ('MW_TRANSMISSION_W2', '>f4'), ('MW_TRANSMISSION_W3', '>f4'), ('MW_TRANSMISSION_W4', '>f4'), ('ALLMASK_G', '>i2'), ('ALLMASK_R', '>i2'), ('ALLMASK_Z', '>i2'), ('FIBERFLUX_G', '>f4'), ('FIBERFLUX_R', '>f4'), ('FIBERFLUX_Z', '>f4'), ('FIBERTOTFLUX_G', '>f4'), ('FIBERTOTFLUX_R', '>f4'), ('FIBERTOTFLUX_Z', '>f4'), ('REF_EPOCH', '>f4'), ('WISEMASK_W1', 'u1'), ('WISEMASK_W2', 'u1'), ('MASKBITS', '>i2'), ('FRACDEV', '>f4'), ('FRACDEV_IVAR', '>f4'), ('SHAPEDEV_R', '>f4'), ('SHAPEDEV_E1', '>f4'), ('SHAPEDEV_E2', '>f4'), ('SHAPEDEV_R_IVAR', '>f4'), ('SHAPEDEV_E1_IVAR', '>f4'), ('SHAPEDEV_E2_IVAR', '>f4'), ('SHAPEEXP_R', '>f4'), ('SHAPEEXP_E1', '>f4'), ('SHAPEEXP_E2', '>f4'), ('SHAPEEXP_R_IVAR', '>f4'), ('SHAPEEXP_E1_IVAR', '>f4'), ('SHAPEEXP_E2_IVAR', '>f4'), ('REF_ID', '>i8'), ('REF_CAT', '<U2'), ('GAIA_PHOT_G_MEAN_MAG', '>f4'), ('GAIA_PHOT_G_MEAN_FLUX_OVER_ERROR', '>f4'), ('GAIA_PHOT_BP_MEAN_MAG', '>f4'), ('GAIA_PHOT_BP_MEAN_FLUX_OVER_ERROR', '>f4'), ('GAIA_PHOT_RP_MEAN_MAG', '>f4'), ('GAIA_PHOT_RP_MEAN_FLUX_OVER_ERROR', '>f4'), ('GAIA_PHOT_BP_RP_EXCESS_FACTOR', '>f4'), ('GAIA_ASTROMETRIC_EXCESS_NOISE', '>f4'), ('GAIA_DUPLICATED_SOURCE', '?'), ('GAIA_ASTROMETRIC_SIGMA5D_MAX', '>f4'), ('GAIA_ASTROMETRIC_PARAMS_SOLVED', '?'), ('PARALLAX', '>f4'), ('PARALLAX_IVAR', '>f4'), ('PMRA', '>f4'), ('PMRA_IVAR', '>f4'), ('PMDEC', '>f4'), ('PMDEC_IVAR', '>f4'), ('PHOTSYS', '<U1'), ('TARGETID', '>i8'), ('CMX_TARGET', '>i8'), ('SUBPRIORITY', '>f8'), ('OBSCONDITIONS', '>i8'), ('PRIORITY_INIT', '>i8'), ('NUMOBS_INIT', '>i8'), ('HPXPIXEL', '>i8'), ('PRIORITY', '>i8')])"
      ]
     },
     "execution_count": 23,
     "metadata": {},
     "output_type": "execute_result"
    }
   ],
   "source": [
    "f[:3]\n"
   ]
  },
  {
   "cell_type": "code",
   "execution_count": null,
   "metadata": {},
   "outputs": [],
   "source": []
  },
  {
   "cell_type": "code",
   "execution_count": null,
   "metadata": {},
   "outputs": [],
   "source": []
  },
  {
   "cell_type": "code",
   "execution_count": null,
   "metadata": {},
   "outputs": [],
   "source": []
  },
  {
   "cell_type": "code",
   "execution_count": null,
   "metadata": {},
   "outputs": [],
   "source": []
  },
  {
   "cell_type": "code",
   "execution_count": null,
   "metadata": {},
   "outputs": [],
   "source": []
  },
  {
   "cell_type": "code",
   "execution_count": null,
   "metadata": {},
   "outputs": [],
   "source": [
    "# dtype=[('cen', '>i8'), \n",
    "#                       ('BA', '>f4'), \n",
    "#                       ('TARGETID', '>i8'), \n",
    "#                       ('RA', '>f8'), \n",
    "#                       ('DEC', '>f8'), \n",
    "#                       ('BRICKID', '>i4'), \n",
    "#                       ('SGA_ID', '>i8'), \n",
    "#                       ('NAME', '<U32'), \n",
    "#                       ('NUMOBS_MORE', '>i8'), \n",
    "#                       ('OBSCONDITIONS', '>i8'), ('D25', '>f4'), ('PA', '>f4'), ('SUBPRIORITY', '>f8'), ('PRIORITY', '>i8'), ('DESI_TARGET', '>i8')]"
   ]
  }
 ],
 "metadata": {
  "kernelspec": {
   "display_name": "Python 3",
   "language": "python",
   "name": "python3"
  },
  "language_info": {
   "codemirror_mode": {
    "name": "ipython",
    "version": 3
   },
   "file_extension": ".py",
   "mimetype": "text/x-python",
   "name": "python",
   "nbconvert_exporter": "python",
   "pygments_lexer": "ipython3",
   "version": "3.7.6"
  }
 },
 "nbformat": 4,
 "nbformat_minor": 4
}
